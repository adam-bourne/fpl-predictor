{
 "cells": [
  {
   "cell_type": "code",
   "execution_count": 1,
   "id": "aa28acb1",
   "metadata": {},
   "outputs": [],
   "source": [
    "# import what we need\n",
    "import pandas as pd\n",
    "import numpy as np\n",
    "import json\n",
    "import os\n",
    "from datetime import date\n",
    "from sklearn.impute import SimpleImputer\n",
    "today = date.today().strftime(\"%d_%m_%Y\")\n",
    "\n",
    "# pandas settings\n",
    "pd.set_option('display.max_rows', 1000)\n",
    "pd.set_option('display.max_columns', 500)"
   ]
  },
  {
   "cell_type": "code",
   "execution_count": 2,
   "id": "cc6b67d8",
   "metadata": {},
   "outputs": [],
   "source": [
    "# FIXTURES\n",
    "element_dict = {\n",
    "    1: \"GKP\",\n",
    "    2: \"DEF\",\n",
    "    3: \"MID\",\n",
    "    4: \"FWD\"\n",
    "}"
   ]
  },
  {
   "cell_type": "code",
   "execution_count": 3,
   "id": "07c013a4",
   "metadata": {},
   "outputs": [],
   "source": [
    "# get our elements tables\n",
    "elements_1819 = pd.read_csv(\"data/2018-19/elements_table.csv\")\n",
    "elements_1920 = pd.read_csv(\"data/2019-20/elements_table.csv\")\n",
    "elements_2021 = pd.read_csv(\"data/2020-21/elements_table.csv\")\n",
    "elements_2122 = pd.read_csv(\"data/2021-22/elements_table.csv\")\n",
    "elements_2223 = pd.read_csv(\"data/2022-23/elements_table.csv\")\n",
    "\n",
    "# get our gw tables\n",
    "gw_1819 = pd.read_csv(\"data/2018-19/merged_gw.csv\", encoding='latin')\n",
    "gw_1920 = pd.read_csv(\"data/2019-20/merged_gw.csv\", encoding='latin')\n",
    "gw_2021 = pd.read_csv(\"data/2020-21/merged_gw.csv\", encoding='latin')\n",
    "gw_2122 = pd.read_csv(\"data/2021-22/merged_gw.csv\", encoding='latin')\n",
    "gw_2223 = pd.read_csv(\"data/2022-23/merged_gw.csv\", encoding='latin')\n",
    "\n",
    "# get our teams tables\n",
    "teams_1819 = pd.read_csv(\"data/2018-19/teams.csv\")\n",
    "teams_1920 = pd.read_csv(\"data/2019-20/teams.csv\")\n",
    "teams_2021 = pd.read_csv(\"data/2020-21/teams.csv\")\n",
    "teams_2122 = pd.read_csv(\"data/2021-22/teams.csv\")\n",
    "teams_2223 = pd.read_csv(\"data/2022-23/teams.csv\")\n",
    "\n",
    "# get our fixtures tables\n",
    "fixtures_1819 = pd.read_csv(\"data/2018-19/fixtures.csv\")\n",
    "fixtures_1920 = pd.read_csv(\"data/2019-20/fixtures.csv\")\n",
    "fixtures_2021 = pd.read_csv(\"data/2020-21/fixtures.csv\")\n",
    "fixtures_2122 = pd.read_csv(\"data/2021-22/fixtures.csv\")\n",
    "fixtures_2223 = pd.read_csv(\"data/2022-23/fixtures.csv\")\n",
    "\n",
    "\n",
    "# master teams table\n",
    "master_teams = pd.read_csv(\"data/master_team_list.csv\")"
   ]
  },
  {
   "cell_type": "markdown",
   "id": "92101ad7",
   "metadata": {},
   "source": [
    "## Basic Cleaning"
   ]
  },
  {
   "cell_type": "code",
   "execution_count": 4,
   "id": "b82a5013",
   "metadata": {},
   "outputs": [],
   "source": [
    "# add season to our dfs\n",
    "seasons = [\"1819\", \"1920\", \"2021\", \"2122\", \"2223\"]\n",
    "elements_df_list = [elements_1819, elements_1920, elements_2021, elements_2122, elements_2223]\n",
    "gw_dfs_list = [gw_1819, gw_1920, gw_2021, gw_2122, gw_2223]\n",
    "teams_df_list = [teams_1819, teams_1920, teams_2021, teams_2122, teams_2223]\n",
    "fixtures_list = [fixtures_1819, fixtures_1920, fixtures_2021, fixtures_2122, fixtures_2223]\n",
    "\n",
    "for i, season in enumerate(seasons):\n",
    "    elements_df_list[i][\"season\"] = season\n",
    "    gw_dfs_list[i][\"season\"] = season\n",
    "    fixtures_list[i][\"season\"] = season\n",
    "    for row_index, row in gw_dfs_list[i].iterrows():\n",
    "        # make sure we have the same name format in the elements and gw tables\n",
    "        first_name = elements_df_list[i].loc[elements_df_list[i][\"id\"]==row[\"element\"], \"first_name\"].item()\n",
    "        last_name = elements_df_list[i].loc[elements_df_list[i][\"id\"]==row[\"element\"], \"second_name\"].item()\n",
    "        gw_dfs_list[i].loc[row_index, \"first_name\"] = first_name\n",
    "        gw_dfs_list[i].loc[row_index, \"last_name\"] = last_name\n",
    "    teams_df_list[i][\"season\"] = season"
   ]
  },
  {
   "cell_type": "code",
   "execution_count": 5,
   "id": "fe7788de",
   "metadata": {},
   "outputs": [],
   "source": [
    "# combine dataframes from all seasons into one\n",
    "total_elements_df = pd.concat(elements_df_list, ignore_index=True)\n",
    "total_gws_df = pd.concat(gw_dfs_list, ignore_index=True)\n",
    "total_fixtures_df = pd.concat(fixtures_list, ignore_index=True)"
   ]
  },
  {
   "cell_type": "code",
   "execution_count": 6,
   "id": "30ec9e79",
   "metadata": {},
   "outputs": [],
   "source": [
    "# some cleaning od tha names\n",
    "total_elements_df[\"full_name\"] = total_elements_df[\"first_name\"] + \"_\" + total_elements_df[\"second_name\"]\n",
    "total_elements_df[\"full_name\"] = total_elements_df[\"full_name\"].str.lower()\n",
    "total_elements_df[\"position\"] = total_elements_df.element_type.map(element_dict)\n",
    "total_gws_df[\"full_name\"] = total_gws_df[\"first_name\"] + \"_\" + total_gws_df[\"last_name\"]\n",
    "total_gws_df[\"full_name\"] = total_gws_df[\"full_name\"].str.lower()\n",
    "total_elements_df = total_elements_df[total_elements_df.full_name != \"danny_ward\"]"
   ]
  },
  {
   "cell_type": "code",
   "execution_count": 7,
   "id": "b23224c0",
   "metadata": {},
   "outputs": [
    {
     "name": "stderr",
     "output_type": "stream",
     "text": [
      "/tmp/ipykernel_30999/1050246393.py:3: SettingWithCopyWarning: \n",
      "A value is trying to be set on a copy of a slice from a DataFrame\n",
      "\n",
      "See the caveats in the documentation: https://pandas.pydata.org/pandas-docs/stable/user_guide/indexing.html#returning-a-view-versus-a-copy\n",
      "  total_elements_df_lite.rename(columns={'total_points':'total_points_last_season'}, inplace=True)\n"
     ]
    }
   ],
   "source": [
    "# merge with gws_df and add opponenent team name\n",
    "total_elements_df_lite = total_elements_df[['full_name', 'season', 'position', 'total_points']]\n",
    "total_elements_df_lite.rename(columns={'total_points':'total_points_last_season'}, inplace=True)\n",
    "total_gws_df = total_gws_df.merge(total_elements_df_lite, on=['full_name', 'season'], how='left')\n",
    "for i, row in total_gws_df.iterrows():\n",
    "    # unpack row vars\n",
    "    fixture = row[\"fixture\"]\n",
    "    home_or_away = \"team_h\" if row[\"was_home\"] else \"team_a\"\n",
    "    \n",
    "    # get player team code from fixtures\n",
    "    player_team_code = total_fixtures_df.loc[(total_fixtures_df[\"season\"]==row[\"season\"]) & \n",
    "                                            (total_fixtures_df[\"id\"]==fixture), home_or_away].item()\n",
    "    \n",
    "    # unpack from master team list\n",
    "    player_team_name_from_fixtures = master_teams.loc[(master_teams[\"season\"]==int(row[\"season\"])) & \n",
    "                                                 (master_teams[\"team\"]==player_team_code), \"team_name\"].item()\n",
    "    \n",
    "    # unpack opponent team from master list\n",
    "    opponent_team_name = master_teams.loc[(master_teams[\"season\"]==int(row[\"season\"])) & \n",
    "                                                 (master_teams[\"team\"]==int(row[\"opponent_team\"])), \"team_name\"].item()\n",
    "    \n",
    "    # assign to main df\n",
    "    total_gws_df.loc[i, \"player_team_name_from_fixtures\"] = player_team_name_from_fixtures\n",
    "    total_gws_df.loc[i, \"opponent_team_name\"] = opponent_team_name"
   ]
  },
  {
   "cell_type": "code",
   "execution_count": 8,
   "id": "33039ba4",
   "metadata": {},
   "outputs": [],
   "source": [
    "# more cleaning\n",
    "key_features = [\n",
    "    \"full_name\",\n",
    "    \"element\",\n",
    "    \"season\",\n",
    "    \"position_y\",\n",
    "    \"player_team_name_from_fixtures\",\n",
    "    \"round\",\n",
    "    \"kickoff_time\",\n",
    "    \"opponent_team_name\",\n",
    "    \"was_home\",\n",
    "    \"team_h_score\",\n",
    "    \"team_a_score\",\n",
    "    \"total_points\",\n",
    "    \"total_points_last_season\",\n",
    "    \"expected_assists\", \n",
    "    \"expected_goals\", \n",
    "    \"expected_goals_conceded\",\n",
    "    \"assists\",\n",
    "    \"bonus\",\n",
    "    \"bps\",\n",
    "    \"creativity\",\n",
    "    \"clean_sheets\",\n",
    "    \"goals_conceded\",\n",
    "    \"goals_scored\",\n",
    "    \"ict_index\",\n",
    "    \"influence\",\n",
    "    \"minutes\",\n",
    "    \"threat\",\n",
    "    \"expected_assists\", \n",
    "    \"expected_goals\", \n",
    "    \"expected_goals_conceded\",\n",
    "]\n",
    "\n",
    "total_gws_df_lite = total_gws_df[key_features]\n",
    "total_gws_df_lite = total_gws_df_lite.loc[:,~total_gws_df_lite.columns.duplicated()].copy()\n",
    "total_gws_df_lite.rename(columns={'position_y': \"position\",\n",
    "                                  \"total_points\": \"gw_total_points\",\n",
    "                                 \"player_team_name_from_fixtures\": \"player_team_name\"}, inplace=True)\n",
    "\n",
    "total_gws_df_lite[\"total_points_last_season\"] = total_gws_df_lite[\"total_points_last_season\"].fillna(0)\n",
    "total_gws_df_lite.dropna(subset=['position', \"team_a_score\"], inplace=True)"
   ]
  },
  {
   "cell_type": "code",
   "execution_count": 9,
   "id": "eb06ae9e",
   "metadata": {},
   "outputs": [
    {
     "name": "stdout",
     "output_type": "stream",
     "text": [
      "<class 'pandas.core.frame.DataFrame'>\n",
      "Int64Index: 120629 entries, 0 to 120915\n",
      "Data columns (total 27 columns):\n",
      " #   Column                    Non-Null Count   Dtype  \n",
      "---  ------                    --------------   -----  \n",
      " 0   full_name                 120629 non-null  object \n",
      " 1   element                   120629 non-null  int64  \n",
      " 2   season                    120629 non-null  object \n",
      " 3   position                  120629 non-null  object \n",
      " 4   player_team_name          120629 non-null  object \n",
      " 5   round                     120629 non-null  int64  \n",
      " 6   kickoff_time              120629 non-null  object \n",
      " 7   opponent_team_name        120629 non-null  object \n",
      " 8   was_home                  120629 non-null  bool   \n",
      " 9   team_h_score              120629 non-null  float64\n",
      " 10  team_a_score              120629 non-null  float64\n",
      " 11  gw_total_points           120629 non-null  int64  \n",
      " 12  total_points_last_season  120629 non-null  float64\n",
      " 13  expected_assists          26543 non-null   float64\n",
      " 14  expected_goals            26543 non-null   float64\n",
      " 15  expected_goals_conceded   26543 non-null   float64\n",
      " 16  assists                   120629 non-null  int64  \n",
      " 17  bonus                     120629 non-null  int64  \n",
      " 18  bps                       120629 non-null  int64  \n",
      " 19  creativity                120629 non-null  float64\n",
      " 20  clean_sheets              120629 non-null  int64  \n",
      " 21  goals_conceded            120629 non-null  int64  \n",
      " 22  goals_scored              120629 non-null  int64  \n",
      " 23  ict_index                 120629 non-null  float64\n",
      " 24  influence                 120629 non-null  float64\n",
      " 25  minutes                   120629 non-null  int64  \n",
      " 26  threat                    120629 non-null  float64\n",
      "dtypes: bool(1), float64(10), int64(10), object(6)\n",
      "memory usage: 25.0+ MB\n"
     ]
    }
   ],
   "source": [
    "total_gws_df_lite.info()"
   ]
  },
  {
   "cell_type": "code",
   "execution_count": 15,
   "id": "cd8a45c9",
   "metadata": {},
   "outputs": [],
   "source": [
    "# save dataframe as the traning db\n",
    "total_gws_df_lite.to_csv(f\"data/db_tables/whole_db_{today}.csv\", index=False)"
   ]
  }
 ],
 "metadata": {
  "kernelspec": {
   "display_name": "conda_pytorch_p310",
   "language": "python",
   "name": "conda_pytorch_p310"
  },
  "language_info": {
   "codemirror_mode": {
    "name": "ipython",
    "version": 3
   },
   "file_extension": ".py",
   "mimetype": "text/x-python",
   "name": "python",
   "nbconvert_exporter": "python",
   "pygments_lexer": "ipython3",
   "version": "3.10.10"
  }
 },
 "nbformat": 4,
 "nbformat_minor": 5
}
