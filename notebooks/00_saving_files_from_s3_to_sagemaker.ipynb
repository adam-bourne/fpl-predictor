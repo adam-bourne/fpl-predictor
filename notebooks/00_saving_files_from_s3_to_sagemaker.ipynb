{
 "cells": [
  {
   "cell_type": "code",
   "execution_count": 1,
   "id": "e2b433a7",
   "metadata": {},
   "outputs": [],
   "source": [
    "# import what we need\n",
    "import os\n",
    "import pandas as pd\n",
    "import numpy as np\n",
    "import boto3"
   ]
  },
  {
   "cell_type": "code",
   "execution_count": 2,
   "id": "22449344",
   "metadata": {},
   "outputs": [],
   "source": [
    "# FIXTURES\n",
    "local_data_path = \"data\"\n",
    "bucket_name = \"fpl-predictor\"\n",
    "s3 = boto3.client(\"s3\")"
   ]
  },
  {
   "cell_type": "code",
   "execution_count": 3,
   "id": "6778e2a9",
   "metadata": {},
   "outputs": [],
   "source": [
    "def save_elements_tables(season):\n",
    "    \"\"\" saves a local copy of the elements table for a specific season\"\"\"\n",
    "    \n",
    "    s3_elements_path = os.path.join(season, \"players_raw.csv\")\n",
    "    local_elements_path = os.path.join(local_data_path, season)\n",
    "    \n",
    "    try:\n",
    "        # make the directory if we don't already have it\n",
    "        if not os.path.exists(local_elements_path):\n",
    "            os.makedirs(local_elements_path)\n",
    "        s3.download_file(bucket_name, s3_elements_path, os.path.join(local_elements_path, \"elements_table.csv\"))\n",
    "        print(f\"{s3_elements_path} saved to {local_elements_path}!\")\n",
    "        \n",
    "    except Exception as e:\n",
    "        print(f\"Unable to save elements_table because of: {e}\")"
   ]
  },
  {
   "cell_type": "code",
   "execution_count": 4,
   "id": "e4ecc26e",
   "metadata": {},
   "outputs": [],
   "source": [
    "def save_fixtures_tables(season):\n",
    "    \"\"\" saves a local copy of the fixtures table for a specific season\"\"\"\n",
    "    \n",
    "    s3_fixtures_path = os.path.join(season, \"fixtures.csv\")\n",
    "    local_fixtures_path = os.path.join(local_data_path, season)\n",
    "    \n",
    "    try:\n",
    "        # make the directory if we don't already have it\n",
    "        if not os.path.exists(local_fixtures_path):\n",
    "            os.makedirs(local_fixtures_path)\n",
    "        s3.download_file(bucket_name, s3_fixtures_path, os.path.join(local_fixtures_path, \"fixtures.csv\"))\n",
    "        print(f\"{s3_fixtures_path} saved to {local_fixtures_path}!\")\n",
    "        \n",
    "    except Exception as e:\n",
    "        print(f\"Unable to save fixtures table because of: {e}\")"
   ]
  },
  {
   "cell_type": "code",
   "execution_count": 5,
   "id": "bc1596c7",
   "metadata": {},
   "outputs": [],
   "source": [
    "def save_teams_tables(season):\n",
    "    \"\"\" saves a local copy of the teams table for a specific season\"\"\"\n",
    "    \n",
    "    s3_teams_path = os.path.join(season, \"teams.csv\")\n",
    "    local_teams_path = os.path.join(local_data_path, season)\n",
    "    \n",
    "    try:\n",
    "        # make the directory if we don't already have it\n",
    "        if not os.path.exists(local_teams_path):\n",
    "            os.makedirs(local_teams_path)\n",
    "        s3.download_file(bucket_name, s3_teams_path, os.path.join(local_teams_path, \"teams.csv\"))\n",
    "        print(f\"{s3_teams_path} saved to {local_teams_path}!\")\n",
    "        \n",
    "    except Exception as e:\n",
    "        print(f\"Unable to save teams table because of: {e}\")"
   ]
  },
  {
   "cell_type": "code",
   "execution_count": 6,
   "id": "546733e4",
   "metadata": {},
   "outputs": [],
   "source": [
    "def save_merged_gw_tables(season):\n",
    "    \"\"\" saves a local copy of the teams table for a specific season\"\"\"\n",
    "    \n",
    "    s3_merged_gw_path = os.path.join(season, \"merged_gw.csv\")\n",
    "    local_merged_gw_path = os.path.join(local_data_path, season)\n",
    "    \n",
    "    try:\n",
    "        # make the directory if we don't already have it\n",
    "        if not os.path.exists(local_merged_gw_path):\n",
    "            os.makedirs(local_merged_gw_path)\n",
    "        s3.download_file(bucket_name, s3_merged_gw_path, os.path.join(local_merged_gw_path, \"merg.csv\"))\n",
    "        print(f\"{s3_merged_gw_path} saved to {local_merged_gw_path}!\")\n",
    "        \n",
    "    except Exception as e:\n",
    "        print(f\"Unable to save merged_gw_table table because of: {e}\")"
   ]
  },
  {
   "cell_type": "code",
   "execution_count": 7,
   "id": "39d137dd",
   "metadata": {},
   "outputs": [],
   "source": [
    "def save_player_data(season):\n",
    "    \"\"\"saves the player gameweek table for each player in teh fpl for a given season\"\"\"\n",
    "    \n",
    "    s3_player_path = f\"{season}/players/\"\n",
    "    local_players_path = os.path.join(local_data_path, season, \"players\")\n",
    "        \n",
    "    for player_directory in s3.list_objects(Bucket=bucket_name, Prefix=s3_player_path)['Contents']:\n",
    "        key = player_directory[\"Key\"]\n",
    "        if key.endswith(\"gw.csv\"):\n",
    "            player_name = os.path.basename(os.path.dirname(key)).lower()\n",
    "            local_gw_path = os.path.join(local_players_path, player_name)\n",
    "            \n",
    "            # make the directory if we don't already have it\n",
    "            if not os.path.exists(local_gw_path):\n",
    "                os.makedirs(local_gw_path)\n",
    "                \n",
    "            s3.download_file(bucket_name, key, os.path.join(local_gw_path, \"gw.csv\"))\n",
    "            print(f\"{key} saved to {os.path.join(local_gw_path, 'gw.csv')}!\")\n",
    "        else:\n",
    "            pass"
   ]
  },
  {
   "cell_type": "code",
   "execution_count": null,
   "id": "f6165bb9",
   "metadata": {},
   "outputs": [],
   "source": [
    "# save elements and player tables\n",
    "season_list = [\"2016-17\", \"2017-18\", \"2018-19\", \"2019-20\", \"2020-21\", \"2021-22\", \"2022-23\"]\n",
    "\n",
    "for season in season_list:\n",
    "    save_elements_tables(season)\n",
    "    save_fixtures_tables(season)\n",
    "    save_player_data(season)\n",
    "    print(\"elements tables and player tables updated for every season\")"
   ]
  }
 ],
 "metadata": {
  "kernelspec": {
   "display_name": "conda_pytorch_p310",
   "language": "python",
   "name": "conda_pytorch_p310"
  },
  "language_info": {
   "codemirror_mode": {
    "name": "ipython",
    "version": 3
   },
   "file_extension": ".py",
   "mimetype": "text/x-python",
   "name": "python",
   "nbconvert_exporter": "python",
   "pygments_lexer": "ipython3",
   "version": "3.10.10"
  }
 },
 "nbformat": 4,
 "nbformat_minor": 5
}
