{
 "cells": [
  {
   "cell_type": "code",
   "execution_count": 1,
   "id": "759b3489",
   "metadata": {},
   "outputs": [],
   "source": [
    "# import what we need\n",
    "import pandas as pd\n",
    "import numpy as np\n",
    "import os\n",
    "\n",
    "#  preprocessing\n",
    "from sklearn.impute import SimpleImputer\n",
    "\n",
    "latest_db_file = \"whole_db_26_07_2023.csv\"\n",
    "# latest_db_file = \"reduced_0_db_26_07_2023.csv\"\n",
    "\n",
    "# pandas settings\n",
    "pd.set_option('display.max_rows', 1000)\n",
    "pd.set_option('display.max_columns', 500)"
   ]
  },
  {
   "cell_type": "code",
   "execution_count": 2,
   "id": "38cd295c",
   "metadata": {},
   "outputs": [],
   "source": [
    "# FIXTURES\n",
    "player_features_to_sum = [\n",
    "    'assists',\n",
    "    'bonus',\n",
    "    'bps',\n",
    "    'creativity',\n",
    "    'clean_sheets',\n",
    "    'goals_conceded',\n",
    "    'goals_scored',\n",
    "    'ict_index',\n",
    "    'influence',\n",
    "    'minutes',\n",
    "    'threat',\n",
    "    \"expected_assists\", \n",
    "    \"expected_goals\", \n",
    "    \"expected_goals_conceded\"\n",
    "]\n",
    "\n",
    "team_features_to_sum = ['goals_conceded', 'goals_scored', 'player_team_points', 'opponent_team_points']"
   ]
  },
  {
   "cell_type": "code",
   "execution_count": 3,
   "id": "e82a3b0f",
   "metadata": {},
   "outputs": [],
   "source": [
    "# load the db\n",
    "raw_db = pd.read_csv(os.path.join(\"data/db_tables\", latest_db_file))\n",
    "raw_db_copy = raw_db.copy()"
   ]
  },
  {
   "cell_type": "markdown",
   "id": "35473090",
   "metadata": {},
   "source": [
    "## feature engineering"
   ]
  },
  {
   "cell_type": "code",
   "execution_count": 4,
   "id": "0112750f",
   "metadata": {},
   "outputs": [],
   "source": [
    "# some helpful functions \n",
    "def player_team_points(was_home, h_score, a_score):\n",
    "    \"\"\"gets the points for a gw for the team a player plays for\"\"\"\n",
    "    \n",
    "    if was_home:\n",
    "        if h_score == a_score:\n",
    "            return 1\n",
    "        if h_score > a_score:\n",
    "            return 3\n",
    "        else:\n",
    "            return 0\n",
    "    else:\n",
    "        if h_score == a_score:\n",
    "            return 1\n",
    "        if h_score > a_score:\n",
    "            return 0\n",
    "        else:\n",
    "            return 3\n",
    "        \n",
    "\n",
    "def opponent_points(player_team_points):\n",
    "    \"\"\"gets the points for a player's opposition team\"\"\"\n",
    "    \n",
    "    if player_team_points == 1:\n",
    "        return 1\n",
    "    if player_team_points == 3:\n",
    "        return 0\n",
    "    else:\n",
    "        return 3"
   ]
  },
  {
   "cell_type": "code",
   "execution_count": 5,
   "id": "b033086b",
   "metadata": {},
   "outputs": [],
   "source": [
    "def impute_xg(df):\n",
    "    \"\"\"imputes xg values for previouse seasons as FPL only collected this data from 2223 onwards\"\"\"\n",
    "    \n",
    "    imputer = SimpleImputer(strategy=\"median\")\n",
    "    features_to_impute = [\"expected_assists\", \"expected_goals\", \"expected_goals_conceded\"]\n",
    "    \n",
    "    for feature in features_to_impute:\n",
    "        df[feature] = imputer.fit_transform(df[[feature]])\n",
    "    \n",
    "    return df"
   ]
  },
  {
   "cell_type": "code",
   "execution_count": 6,
   "id": "93482333",
   "metadata": {},
   "outputs": [],
   "source": [
    "def player_sum(df, features_to_sum, sum_ranges):\n",
    "    \"\"\"takes the combined df and sums player attributes based on values provided in sum_range\"\"\"\n",
    "    \n",
    "    output_df = df.copy()\n",
    "    summed_features = []\n",
    "    \n",
    "    for feature in features_to_sum:\n",
    "        for _sum in sum_ranges:\n",
    "            summed_feature = 'last_' + str(_sum) + '_' + feature\n",
    "            \n",
    "            if _sum == 'all':\n",
    "                output_df[summed_feature] = output_df.sort_values('round').groupby(['season', 'full_name'], group_keys=False)[feature].apply(lambda x: x.cumsum() - x)\n",
    "                \n",
    "            else:\n",
    "\n",
    "                output_df[summed_feature] = output_df.sort_values('round').groupby(['season', 'full_name'], group_keys=False)[feature].apply(lambda x: x.rolling(min_periods=1, window=_sum+1).sum() - x)\n",
    "\n",
    "            summed_features.append(summed_feature)\n",
    "    \n",
    "    return output_df, summed_features"
   ]
  },
  {
   "cell_type": "code",
   "execution_count": 7,
   "id": "8775f818",
   "metadata": {},
   "outputs": [],
   "source": [
    "def sum_team_2(df, sum_ranges):\n",
    "    \"\"\"takes the combined df and sums team attributes based on values provided in sum_range\"\"\"\n",
    "    \n",
    "    # reduce df size to make easier to handle\n",
    "    output_df = df[['player_team_name', 'season', 'round', 'kickoff_time', 'opponent_team_name',\n",
    "                    \"goals_scored\", \"goals_conceded\", \"player_team_points\"]].copy()\n",
    "    \n",
    "    # apply grouping to goals_scored and conceded to apply to whole team\n",
    "    output_df[\"team_goals_scored\"] = output_df.groupby(['player_team_name', 'season', 'round', 'kickoff_time', 'opponent_team_name'])['goals_scored'].transform('sum')\n",
    "    output_df[\"team_goals_conceded\"] = output_df.groupby(['player_team_name', 'season', 'round', 'kickoff_time', 'opponent_team_name'])['goals_conceded'].transform('max')\n",
    "    output_df.drop(['goals_scored', 'goals_conceded'], axis=1, inplace=True)\n",
    "    \n",
    "    # group whole dataframe\n",
    "    player_team_grouped_df = output_df.groupby(['player_team_name', 'season', 'round', 'kickoff_time', 'opponent_team_name']).mean().reset_index()\n",
    "    \n",
    "    summed_team_features = []\n",
    "    for feature in [\"team_goals_scored\", \"team_goals_conceded\", \"player_team_points\"]:\n",
    "        for _sum in sum_ranges:\n",
    "            summed_player_team_feature_name = 'last_player_' + str(_sum) + '_' + feature\n",
    "            summed_opponent_team_feature_name = 'last_opponent_' + str(_sum) + '_' + feature\n",
    "            summed_team_features.extend([summed_player_team_feature_name, summed_opponent_team_feature_name])\n",
    "            if _sum == \"all\":\n",
    "                player_team_grouped_df[summed_player_team_feature_name] = player_team_grouped_df.sort_values('round').groupby([\"player_team_name\", \"season\"], group_keys=False)[feature].apply(lambda x: x.cumsum() - x)\n",
    "            else:\n",
    "                player_team_grouped_df[summed_player_team_feature_name] = player_team_grouped_df.groupby(['player_team_name','season'])[feature].transform(lambda x: (x.rolling(min_periods=1, window=_sum+1).sum()-x))\n",
    "            for index, row in player_team_grouped_df.iterrows():\n",
    "                blub = player_team_grouped_df.loc[(player_team_grouped_df[\"player_team_name\"]==row[\"opponent_team_name\"]) & \n",
    "                                                    (player_team_grouped_df[\"season\"]==row[\"season\"]) &\n",
    "                                                    (player_team_grouped_df[\"round\"]==row[\"round\"]) & \n",
    "                                                    (player_team_grouped_df[\"kickoff_time\"]==row[\"kickoff_time\"]) &\n",
    "                                                    (player_team_grouped_df[\"opponent_team_name\"]==row[\"player_team_name\"]),\n",
    "                                                  summed_player_team_feature_name].item()                \n",
    "                player_team_grouped_df.loc[index, summed_opponent_team_feature_name] = blub\n",
    "                \n",
    "    # combine with the player df\n",
    "    combined_df = df.merge(player_team_grouped_df, on=['player_team_name', 'season', 'round', 'kickoff_time', 'opponent_team_name'],\n",
    "                             how='left')\n",
    "    return combined_df, summed_team_features"
   ]
  },
  {
   "cell_type": "code",
   "execution_count": 8,
   "id": "99187afa",
   "metadata": {},
   "outputs": [],
   "source": [
    "# map funcs to our df\n",
    "raw_db_copy[\"player_team_points\"] = raw_db_copy.apply(lambda x: player_team_points(x.was_home, x.team_h_score, x.team_a_score), axis=1)\n",
    "raw_db_copy[\"opponent_team_points\"] = raw_db_copy.apply(lambda x: opponent_points(x.player_team_points), axis=1)\n",
    "\n",
    "# impute\n",
    "raw_db_copy = impute_xg(raw_db_copy)\n",
    "\n",
    "# create player summed table\n",
    "summed_gw_df_players, summed_player_features = player_sum(raw_db_copy, player_features_to_sum, ['all', 1, 3, 5])\n",
    "\n",
    "# create team_sum table and combine\n",
    "combined_teams_players, summed_team_features = sum_team_2(summed_gw_df_players, [\"all\", 1, 3, 5])"
   ]
  },
  {
   "cell_type": "markdown",
   "id": "6bee6d92",
   "metadata": {},
   "source": [
    "## Save dataframe for modelling"
   ]
  },
  {
   "cell_type": "code",
   "execution_count": 40,
   "id": "37390eff",
   "metadata": {},
   "outputs": [],
   "source": [
    "features_for_modelling = ['position', 'was_home', 'round', \"minutes\", \"gw_total_points\", \"total_points_last_season\"] + summed_player_features + summed_team_features\n",
    "combined_teams_players_lite = combined_teams_players[features_for_modelling]\n",
    "combined_teams_players_lite.to_csv(\"data/training_datasets/combined_players_teams_lite.csv\", index=False)"
   ]
  },
  {
   "cell_type": "code",
   "execution_count": 43,
   "id": "fd2fbc27",
   "metadata": {},
   "outputs": [],
   "source": [
    "# We have a large number of rows with all 0s, due to sqaud players not being played\n",
    "# I can remove a lot of these so that we rebalance the dataset a biy more\n",
    "features_for_modelling_m = ['position', 'was_home', 'round', \"minutes\", \"gw_total_points\", \"total_points_last_season\"] + summed_player_features + summed_team_features\n",
    "combined_teams_players_lite_w_min = combined_teams_players[features_for_modelling_m]\n",
    "combined_teams_players_lite_w_min = combined_teams_players_lite_w_min.drop(combined_teams_players_lite_w_min[(combined_teams_players_lite_w_min['gw_total_points'] == 0) &\n",
    "                                                                (combined_teams_players_lite_w_min['minutes'] == 0)].sample(frac=.95).index)\n",
    "combined_teams_players_lite_w_min.drop([\"minutes\"], axis=1, inplace=True)\n",
    "combined_teams_players_lite_w_min.to_csv(\"data/training_datasets/combined_players_teams_lite_w_min.csv\", index=False)"
   ]
  }
 ],
 "metadata": {
  "kernelspec": {
   "display_name": "conda_pytorch_p310",
   "language": "python",
   "name": "conda_pytorch_p310"
  },
  "language_info": {
   "codemirror_mode": {
    "name": "ipython",
    "version": 3
   },
   "file_extension": ".py",
   "mimetype": "text/x-python",
   "name": "python",
   "nbconvert_exporter": "python",
   "pygments_lexer": "ipython3",
   "version": "3.10.10"
  }
 },
 "nbformat": 4,
 "nbformat_minor": 5
}
