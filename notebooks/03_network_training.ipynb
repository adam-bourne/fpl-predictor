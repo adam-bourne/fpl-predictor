{
 "cells": [
  {
   "cell_type": "code",
   "execution_count": null,
   "id": "1d3ba51c",
   "metadata": {},
   "outputs": [],
   "source": [
    "import pandas as pd\n",
    "import numpy as np\n",
    "import torch\n",
    "import torch.nn as nn\n",
    "import torch.optim as optim\n",
    "from torch.utils.data import TensorDataset, DataLoader\n",
    "from sklearn.model_selection import train_test_split\n",
    "from sklearn.preprocessing import OneHotEncoder, StandardScaler\n",
    "from sklearn.pipeline import Pipeline\n",
    "from sklearn.compose import ColumnTransformer\n",
    "import copy\n",
    "import matplotlib.pyplot as plt\n",
    "import pickle"
   ]
  },
  {
   "cell_type": "code",
   "execution_count": null,
   "id": "f9aeadea",
   "metadata": {},
   "outputs": [],
   "source": [
    "def pickle_save(obj, filename):\n",
    "    with open(filename, 'wb') as outp:\n",
    "        pickle.dump(obj, outp)"
   ]
  },
  {
   "cell_type": "code",
   "execution_count": null,
   "id": "bffc25ba",
   "metadata": {},
   "outputs": [],
   "source": [
    "# load the dataframe\n",
    "# dataset = pd.read_csv(\"data/training_datasets/combined_players_teams_lite.csv\")\n",
    "dataset = pd.read_csv(\"data/training_datasets/combined_players_teams_lite_w_min.csv\")"
   ]
  },
  {
   "cell_type": "code",
   "execution_count": null,
   "id": "d583994a",
   "metadata": {},
   "outputs": [],
   "source": [
    "dataset"
   ]
  },
  {
   "cell_type": "markdown",
   "id": "95c30453",
   "metadata": {},
   "source": [
    "## Do transformations"
   ]
  },
  {
   "cell_type": "code",
   "execution_count": null,
   "id": "f2a2391e",
   "metadata": {},
   "outputs": [],
   "source": [
    "# create our X and y\n",
    "y = dataset.gw_total_points.to_numpy()\n",
    "X = dataset.drop(\"gw_total_points\", axis=1)\n",
    "cat_atts = list(X.columns[0:2])\n",
    "num_atts = list(X.columns[2:])"
   ]
  },
  {
   "cell_type": "code",
   "execution_count": null,
   "id": "a2cf6df9",
   "metadata": {},
   "outputs": [],
   "source": [
    "# train, validation, test split\n",
    "X_train_raw, X_vali_test_raw, y_train_raw, y_vali_test_raw = train_test_split(X, y, train_size=0.8, shuffle=True)\n",
    "X_vali_raw, X_test_raw, y_vali_raw, y_test_raw = train_test_split(X_vali_test_raw, y_vali_test_raw, train_size=0.5)"
   ]
  },
  {
   "cell_type": "code",
   "execution_count": null,
   "id": "535f1730",
   "metadata": {},
   "outputs": [],
   "source": [
    "# instantiate the transformers\n",
    "# initial training found we performed better using a scaled target variable as there is a lot of variability\n",
    "one_hot_enc = OneHotEncoder(sparse_output=False)\n",
    "X_st_scaler = StandardScaler()\n",
    "y_st_scaler = StandardScaler()"
   ]
  },
  {
   "cell_type": "code",
   "execution_count": null,
   "id": "d11952e7",
   "metadata": {},
   "outputs": [],
   "source": [
    "# apply the y scaler to targets\n",
    "y_train_scaled = y_st_scaler.fit_transform(y_train_raw.reshape(-1, 1))\n",
    "y_vali_scaled = y_st_scaler.transform(y_vali_raw.reshape(-1, 1))\n",
    "y_test_scaled = y_st_scaler.transform(y_test_raw.reshape(-1, 1))"
   ]
  },
  {
   "cell_type": "code",
   "execution_count": null,
   "id": "5613d373",
   "metadata": {},
   "outputs": [],
   "source": [
    "# build my pipelines\n",
    "categorical_transformer = Pipeline(steps=[\n",
    "    ('onehot', one_hot_enc),\n",
    "])\n",
    "\n",
    "numeric_transformer = Pipeline(steps=[\n",
    "    ('scaler', X_st_scaler),\n",
    "])\n",
    "\n",
    "# create the column transformer\n",
    "fpl_preprocess = ColumnTransformer(\n",
    "    transformers=[\n",
    "        ('cat', categorical_transformer, cat_atts),\n",
    "        ('num', numeric_transformer, num_atts),\n",
    "    ]\n",
    ")"
   ]
  },
  {
   "cell_type": "code",
   "execution_count": null,
   "id": "23c75048",
   "metadata": {},
   "outputs": [],
   "source": [
    "# apply transformations to features\n",
    "transformed_X_train = fpl_preprocess.fit_transform(X_train_raw)\n",
    "transformed_X_vali = fpl_preprocess.transform(X_vali_raw)\n",
    "transformed_X_test = fpl_preprocess.transform(X_test_raw)"
   ]
  },
  {
   "cell_type": "code",
   "execution_count": null,
   "id": "12130015",
   "metadata": {},
   "outputs": [],
   "source": [
    "X_train_tens = torch.tensor(transformed_X_train, dtype=torch.float32)\n",
    "X_vali_tens = torch.tensor(transformed_X_vali, dtype=torch.float32)\n",
    "X_test_tens = torch.tensor(transformed_X_test, dtype=torch.float32)\n",
    "y_train_tens = torch.tensor(y_train_scaled, dtype=torch.float32).reshape(-1, 1)\n",
    "y_vali_tens = torch.tensor(y_vali_scaled, dtype=torch.float32).reshape(-1, 1)\n",
    "y_test_tens = torch.tensor(y_test_scaled, dtype=torch.float32).reshape(-1, 1)"
   ]
  },
  {
   "cell_type": "code",
   "execution_count": null,
   "id": "5f9d5bb9",
   "metadata": {},
   "outputs": [],
   "source": [
    "# create datasets\n",
    "train_dataset = TensorDataset(X_train_tens, y_train_tens)\n",
    "vali_dataset = TensorDataset(X_vali_tens, y_vali_tens)\n",
    "test_dataset = TensorDataset(X_test_tens, y_test_tens)\n",
    "\n",
    "# create dataloaders\n",
    "train_dataloader = DataLoader(train_dataset, batch_size=32, shuffle=True)\n",
    "vali_dataloader = DataLoader(vali_dataset, batch_size=32, shuffle=True)\n",
    "test_dataloader = DataLoader(test_dataset, batch_size=32, shuffle=True)"
   ]
  },
  {
   "cell_type": "code",
   "execution_count": null,
   "id": "04589ccf",
   "metadata": {},
   "outputs": [],
   "source": [
    "# save our pipeline for future use\n",
    "pickle_save(fpl_preprocess, \"fpl_preprocess.pkl\")\n",
    "pickle_save(y_st_scaler, \"y_st_scaler.pkl\")"
   ]
  },
  {
   "cell_type": "markdown",
   "id": "a0bd3702",
   "metadata": {},
   "source": [
    "## Modelling"
   ]
  },
  {
   "cell_type": "markdown",
   "id": "5ac70882",
   "metadata": {},
   "source": [
    "I tried a number of model architectures with different depths and widths, but this was found as the best one\n",
    "\n",
    "I also tried:\n",
    "- learning_rate = [0.01, 0.001, 0.0001, 0.00001]\n",
    "- momentum = [0.85, 0.9, 0.99]\n",
    "- activation_function = [ReLU(), LeakyReLU()]\n",
    "- gradient_clipping = nn.utils.clip_grad_norm_(model.parameters(), 1.0)\n",
    "- weight_decay = [0.0001]\n",
    "\n",
    "And found the following representation as the one which minimised loss"
   ]
  },
  {
   "cell_type": "code",
   "execution_count": null,
   "id": "d304c6e2",
   "metadata": {},
   "outputs": [],
   "source": [
    "# define our model and optimize the weights\n",
    "\n",
    "layer_0 = nn.Linear(88, 6000)\n",
    "nn.init.kaiming_uniform_(layer_0.weight, mode='fan_in', nonlinearity='leaky_relu')\n",
    "\n",
    "layer_1 = nn.Linear(6000, 2000)\n",
    "nn.init.kaiming_uniform_(layer_1.weight,mode='fan_in', nonlinearity='leaky_relu')\n",
    "\n",
    "layer_2 = nn.Linear(2000, 500)\n",
    "nn.init.kaiming_uniform_(layer_2.weight, mode='fan_in', nonlinearity='leaky_relu')\n",
    "# \n",
    "layer_4 = nn.Linear(500, 25)\n",
    "nn.init.kaiming_uniform_(layer_4.weight, mode='fan_in', nonlinearity='leaky_relu')\n",
    "\n",
    "layer_5 = nn.Linear(25, 1)\n",
    "nn.init.kaiming_uniform_(layer_5.weight, mode='fan_in', nonlinearity='leaky_relu')\n",
    "\n",
    "model = nn.Sequential(\n",
    "    layer_0,\n",
    "    nn.LeakyReLU(),\n",
    "#     nn.Dropout(p=0.05),\n",
    "    layer_1,\n",
    "    nn.LeakyReLU(),\n",
    "#     nn.Dropout(p=0.05),\n",
    "    layer_2,\n",
    "    nn.LeakyReLU(),\n",
    "    layer_4,\n",
    "    nn.LeakyReLU(),\n",
    "#     nn.Dropout(p=0.05),\n",
    "    layer_5\n",
    ")"
   ]
  },
  {
   "cell_type": "code",
   "execution_count": null,
   "id": "96dec459",
   "metadata": {},
   "outputs": [],
   "source": [
    "# loss function, optimizer, epochs and bactch size\n",
    "loss_fn = nn.MSELoss()\n",
    "optimizer = optim.SGD(model.parameters(), lr=0.00001, momentum=0.95) #, weight_decay = 0.0001)\n",
    "n_epochs = 100\n",
    "batch_size = 64"
   ]
  },
  {
   "cell_type": "code",
   "execution_count": null,
   "id": "5ca2dd10",
   "metadata": {},
   "outputs": [],
   "source": [
    "# hold our best model weights to save later\n",
    "\n",
    "best_mse = np.inf   # init to infinity\n",
    "best_weights = None\n",
    "train_history = {}\n",
    "vali_history = {}\n",
    "\n",
    "# train loop\n",
    "for epoch in range(n_epochs):\n",
    "    \n",
    "    # set to train mode\n",
    "    model.train()\n",
    "    \n",
    "    # set train loss\n",
    "    train_loss = 0.0\n",
    "    \n",
    "    # loop through the dataloader\n",
    "    for train_data in train_dataloader:\n",
    "        \n",
    "        # get features and target\n",
    "        features, target = train_data\n",
    "        \n",
    "        # forward pass\n",
    "        y_pred = model(features)\n",
    "        loss = loss_fn(y_pred, target)\n",
    "        \n",
    "        # update metrics\n",
    "        train_loss += loss.item()*features.size(0)\n",
    "        \n",
    "        # backward pass\n",
    "        optimizer.zero_grad()\n",
    "        loss.backward()\n",
    "        \n",
    "        # update weights\n",
    "        optimizer.step()\n",
    "        \n",
    "    \n",
    "    # VALIDATION\n",
    "    \n",
    "    with torch.no_grad():\n",
    "        \n",
    "        # set model to eval mode\n",
    "        model.eval()\n",
    "        \n",
    "        # forward pass\n",
    "        y_pred = model(X_vali_tens)\n",
    "        mse = loss_fn(y_pred, y_vali_tens)\n",
    "        mse = mse.item()\n",
    "        \n",
    "        # update metrics\n",
    "        vali_history[epoch] = float(mse)\n",
    "        train_history[epoch] = float(train_loss/len(train_dataset))\n",
    "        \n",
    "        if mse < best_mse:\n",
    "            best_mse = mse\n",
    "            best_weights = copy.deepcopy(model.state_dict())\n",
    "            \n",
    "    \n",
    "    # make a pretty plot\n",
    "    print(\"BEST MSE: %.2f\" % best_mse)\n",
    "    print(\"BEST RMSE: %.2f\" % np.sqrt(best_mse))\n",
    "    \n",
    "    plt.plot(train_history.keys(), train_history.values(), label='Training Loss')\n",
    "    plt.plot(vali_history.keys(), vali_history.values(), label='Validation Loss')\n",
    "\n",
    "    # Add in a title and axes labels\n",
    "    plt.title('Training and Validation Loss')\n",
    "    plt.xlabel('Epochs')\n",
    "    plt.ylabel('Loss')\n",
    "\n",
    "    # Set the tick locations\n",
    "    plt.xticks(np.arange(0, n_epochs, 5))\n",
    "\n",
    "    # Display the plot\n",
    "    plt.legend(loc='best')\n",
    "    plt.show()\n",
    "\n",
    "# load the best weights after training\n",
    "model.load_state_dict(best_weights)"
   ]
  },
  {
   "cell_type": "code",
   "execution_count": 24,
   "id": "4951fe1f",
   "metadata": {},
   "outputs": [
    {
     "data": {
      "image/png": "[encoded data removed]",
      "text/plain": [
       "<Figure size 640x480 with 1 Axes>"
      ]
     },
     "metadata": {},
     "output_type": "display_data"
    }
   ],
   "source": [
    "plt.plot(train_history.keys(), train_history.values(), label='Training Loss')\n",
    "plt.plot(vali_history.keys(), vali_history.values(), label='Validation Loss')\n",
    "\n",
    "# Add in a title and axes labels\n",
    "plt.title('Training and Validation Loss')\n",
    "plt.xlabel('Epochs')\n",
    "plt.ylabel('Loss')\n",
    "\n",
    "# Set the tick locations\n",
    "plt.xticks(np.arange(0, n_epochs, 5))\n",
    "\n",
    "# Display the plot\n",
    "plt.legend(loc='best')\n",
    "plt.show()"
   ]
  },
  {
   "cell_type": "code",
   "execution_count": null,
   "id": "6b3d63f2",
   "metadata": {},
   "outputs": [],
   "source": [
    "def accuracy(model, X_test, y_test, pct):\n",
    "    \n",
    "    n_correct = 0 \n",
    "    n_wrong = 0\n",
    "    model.eval()\n",
    "    with torch.no_grad():\n",
    "        for i in range(len(X_test)):\n",
    "            X_sample = X_test[i: i+1]\n",
    "            actual = y_test[i].numpy()\n",
    "            preds = model(X_sample)\n",
    "            y_pred_upscale = y_st_scaler.inverse_transform(preds)\n",
    "            y_target = y_st_scaler.inverse_transform(y_test_scaled)[i]\n",
    "\n",
    "            print(\"-----------------------------\")\n",
    "            abs_delta = np.abs(round(y_pred_upscale.item()) - y_target.item())\n",
    "            max_allow = np.abs(pct * y_target.item())\n",
    "            print(\"predicted = %0.4f  actual = %0.4f \\ delta = %0.4f  max_allow = %0.4f : \" % (round(y_pred_upscale.item()), y_target.item(), abs_delta, max_allow),  end=\"\")\n",
    "            if abs_delta < max_allow:\n",
    "                print(\"correct\")\n",
    "                n_correct +=1\n",
    "            else:\n",
    "                print(\"wrong\")\n",
    "                n_wrong += 1\n",
    "\n",
    "    acc = (n_correct * 1.0) / (n_correct + n_wrong)\n",
    "    return acc"
   ]
  },
  {
   "cell_type": "code",
   "execution_count": null,
   "id": "6b01591b",
   "metadata": {},
   "outputs": [],
   "source": [
    "acc = accuracy(model, X_test_tens, y_test_tens, 0.20)"
   ]
  },
  {
   "cell_type": "code",
   "execution_count": 25,
   "id": "ddbb0cf3",
   "metadata": {},
   "outputs": [
    {
     "data": {
      "text/plain": [
       "0.21360592174832568"
      ]
     },
     "execution_count": 25,
     "metadata": {},
     "output_type": "execute_result"
    }
   ],
   "source": [
    "acc"
   ]
  },
  {
   "cell_type": "markdown",
   "id": "5bd54321",
   "metadata": {},
   "source": [
    "### Results\n",
    "\n",
    "As we can see, predicting the weekly results is hard, and we were only within 20% of the actual score for each player ~21.3% of the time, which is not very accurate.\n",
    "\n",
    "However, to be a good tool, the model doesn't necessarily have to be incredibly accurate, it just has to predict the highest scoring player each week (or at least be accurate over an extended period).\n",
    "\n",
    "I think having an accurate model for predictions on a specific gameweek is always going to be hard, becuase there is a huge amount of randomness guiding a player's points tally, which will never be captured in the stats.\n",
    "\n",
    "Because of this, I think the weekly predictor should only be used as a guide to selecting players, not necessarily as an accurate predictor of points\n",
    "\n",
    "Next steps are to see if the model is accurate over an extended period (e.g. a season) and plot players' predicted vs actual cumulative points. That way I can at least see if the model can be used to guid judgements over the longer term."
   ]
  },
  {
   "cell_type": "code",
   "execution_count": null,
   "id": "3bac1c03",
   "metadata": {},
   "outputs": [],
   "source": []
  }
 ],
 "metadata": {
  "kernelspec": {
   "display_name": "conda_pytorch_p310",
   "language": "python",
   "name": "conda_pytorch_p310"
  },
  "language_info": {
   "codemirror_mode": {
    "name": "ipython",
    "version": 3
   },
   "file_extension": ".py",
   "mimetype": "text/x-python",
   "name": "python",
   "nbconvert_exporter": "python",
   "pygments_lexer": "ipython3",
   "version": "3.10.10"
  }
 },
 "nbformat": 4,
 "nbformat_minor": 5
}
